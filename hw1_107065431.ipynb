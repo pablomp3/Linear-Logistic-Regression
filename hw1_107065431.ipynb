{
 "cells": [
  {
   "cell_type": "markdown",
   "metadata": {},
   "source": [
    "# COM56000 Deep Learning  -  Homework 1\n",
    "## Machine Learning Basics: Regression and Classification\n",
    "## 荷西 Pablo López\n",
    "**Student ID:** 107065431"
   ]
  },
  {
   "cell_type": "markdown",
   "metadata": {},
   "source": [
    "**Note**: For the elaboration of this report, I have decided to include everything in a Jupyter notebook, in order to improve readability of the code and provide insightful comments of the most important sections.\n",
    "If you have any question please feel free to email me: pabloldieguez@gmail.com <br> Thank you for your time."
   ]
  },
  {
   "cell_type": "markdown",
   "metadata": {},
   "source": [
    "First of all, I have imported the allowed packages that we would use along the project:"
   ]
  },
  {
   "cell_type": "code",
   "execution_count": 1,
   "metadata": {},
   "outputs": [],
   "source": [
    "import pandas as pd\n",
    "import numpy as np\n",
    "import matplotlib.pyplot as plt\n",
    "import seaborn as sns"
   ]
  },
  {
   "cell_type": "markdown",
   "metadata": {},
   "source": [
    "In the next section, I have imported the data from the **train.csv** file into the newly created **whole** dataframe."
   ]
  },
  {
   "cell_type": "markdown",
   "metadata": {},
   "source": [
    "# 1) Linear Regression a)"
   ]
  },
  {
   "cell_type": "code",
   "execution_count": 2,
   "metadata": {},
   "outputs": [
    {
     "name": "stdout",
     "output_type": "stream",
     "text": [
      "   ID school sex  age address famsize Pstatus  Medu  Fedu      Mjob ...   \\\n",
      "0   1     GP   M   16       U     GT3       T     1     0     other ...    \n",
      "1   2     MS   M   17       R     GT3       T     2     2     other ...    \n",
      "2   3     GP   F   17       U     GT3       T     3     3  services ...    \n",
      "\n",
      "  freetime goout Dalc  Walc  health  absences  G1  G2  G3  cat  \n",
      "0        3     2    1     1       3         0  16  17  18  por  \n",
      "1        5     5    3     5       5         0   8  13  10  por  \n",
      "2        2     2    2     3       5        10  11  11  11  por  \n",
      "\n",
      "[3 rows x 35 columns]\n"
     ]
    },
    {
     "data": {
      "text/plain": [
       "1000"
      ]
     },
     "execution_count": 2,
     "metadata": {},
     "output_type": "execute_result"
    }
   ],
   "source": [
    "# Read the whole dataset train.csv\n",
    "whole = pd.read_csv(\"train.csv\")\n",
    "print(whole[0:3])\n",
    "len(whole)\n",
    "#list(whole)"
   ]
  },
  {
   "cell_type": "markdown",
   "metadata": {},
   "source": [
    "Since most of the features contain several possibilities, I wanted to break down those features and include them separately:"
   ]
  },
  {
   "cell_type": "code",
   "execution_count": 3,
   "metadata": {},
   "outputs": [
    {
     "name": "stdout",
     "output_type": "stream",
     "text": [
      "   ID  age  Medu  Fedu  traveltime  studytime  failures  famrel  freetime  \\\n",
      "0   1   16     1     0           2          2         0       4         3   \n",
      "1   2   17     2     2           2          1         0       5         5   \n",
      "2   3   17     3     3           2          3         0       4         2   \n",
      "\n",
      "   goout   ...     nursery_no  nursery_yes  higher_no  higher_yes  \\\n",
      "0      2   ...              0            1          0           1   \n",
      "1      5   ...              0            1          1           0   \n",
      "2      2   ...              0            1          0           1   \n",
      "\n",
      "   internet_no  internet_yes  romantic_no  romantic_yes  cat_mat  cat_por  \n",
      "0            0             1            0             1        0        1  \n",
      "1            1             0            0             1        0        1  \n",
      "2            0             1            0             1        0        1  \n",
      "\n",
      "[3 rows x 62 columns]\n"
     ]
    }
   ],
   "source": [
    "whole = pd.get_dummies(whole)\n",
    "print(whole[0:3])"
   ]
  },
  {
   "cell_type": "code",
   "execution_count": 4,
   "metadata": {
    "scrolled": true
   },
   "outputs": [
    {
     "data": {
      "text/plain": [
       "['ID',\n",
       " 'age',\n",
       " 'Medu',\n",
       " 'Fedu',\n",
       " 'traveltime',\n",
       " 'studytime',\n",
       " 'failures',\n",
       " 'famrel',\n",
       " 'freetime',\n",
       " 'goout',\n",
       " 'Dalc',\n",
       " 'Walc',\n",
       " 'health',\n",
       " 'absences',\n",
       " 'G1',\n",
       " 'G2',\n",
       " 'G3',\n",
       " 'school_GP',\n",
       " 'school_MS',\n",
       " 'sex_F',\n",
       " 'sex_M',\n",
       " 'address_R',\n",
       " 'address_U',\n",
       " 'famsize_GT3',\n",
       " 'famsize_LE3',\n",
       " 'Pstatus_A',\n",
       " 'Pstatus_T',\n",
       " 'Mjob_at_home',\n",
       " 'Mjob_health',\n",
       " 'Mjob_other',\n",
       " 'Mjob_services',\n",
       " 'Mjob_teacher',\n",
       " 'Fjob_at_home',\n",
       " 'Fjob_health',\n",
       " 'Fjob_other',\n",
       " 'Fjob_services',\n",
       " 'Fjob_teacher',\n",
       " 'reason_course',\n",
       " 'reason_home',\n",
       " 'reason_other',\n",
       " 'reason_reputation',\n",
       " 'guardian_father',\n",
       " 'guardian_mother',\n",
       " 'guardian_other',\n",
       " 'schoolsup_no',\n",
       " 'schoolsup_yes',\n",
       " 'famsup_no',\n",
       " 'famsup_yes',\n",
       " 'paid_no',\n",
       " 'paid_yes',\n",
       " 'activities_no',\n",
       " 'activities_yes',\n",
       " 'nursery_no',\n",
       " 'nursery_yes',\n",
       " 'higher_no',\n",
       " 'higher_yes',\n",
       " 'internet_no',\n",
       " 'internet_yes',\n",
       " 'romantic_no',\n",
       " 'romantic_yes',\n",
       " 'cat_mat',\n",
       " 'cat_por']"
      ]
     },
     "execution_count": 4,
     "metadata": {},
     "output_type": "execute_result"
    }
   ],
   "source": [
    "# Now we can see all the new list of paramenters of the dataset\n",
    "list(whole)"
   ]
  },
  {
   "cell_type": "markdown",
   "metadata": {},
   "source": [
    "Normalization will be done after I separate the data into **training** and **testing** according to the next formula:"
   ]
  },
  {
   "cell_type": "code",
   "execution_count": 5,
   "metadata": {},
   "outputs": [
    {
     "name": "stdout",
     "output_type": "stream",
     "text": [
      "   ID  age  Medu  Fedu  traveltime  studytime  failures  famrel  freetime  \\\n",
      "0   1   16     1     0           2          2         0       4         3   \n",
      "1   2   17     2     2           2          1         0       5         5   \n",
      "2   3   17     3     3           2          3         0       4         2   \n",
      "3   4   16     4     3           1          2         0       3         4   \n",
      "4   5   15     4     3           1          2         0       4         5   \n",
      "\n",
      "   goout   ...     nursery_no  nursery_yes  higher_no  higher_yes  \\\n",
      "0      2   ...              0            1          0           1   \n",
      "1      5   ...              0            1          1           0   \n",
      "2      2   ...              0            1          0           1   \n",
      "3      3   ...              0            1          0           1   \n",
      "4      2   ...              0            1          0           1   \n",
      "\n",
      "   internet_no  internet_yes  romantic_no  romantic_yes  cat_mat  cat_por  \n",
      "0            0             1            0             1        0        1  \n",
      "1            1             0            0             1        0        1  \n",
      "2            0             1            0             1        0        1  \n",
      "3            0             1            1             0        1        0  \n",
      "4            0             1            0             1        1        0  \n",
      "\n",
      "[5 rows x 62 columns]\n"
     ]
    }
   ],
   "source": [
    "# --------------------------------------------------------------------------------------------------------\n",
    "# --------------------------------------------------------------------------------------------------------\n",
    "# ------------------------------- NORMALIZE --------------------------------------------------------------\n",
    "# -------------- THE COLUMNS THAT CONTAIN NON-BINARY NUMERICAL VALUES ------------------------------------\n",
    "\n",
    "#                                X - mean(X)               \n",
    "#                            X = -------------\n",
    "#                                    std(X)\n",
    "\n",
    "# other possibility for normalization is X = (Xi - min(x))/(max(x)-min(x))\n",
    "\n",
    "# Now that our 'whole' dataframe has quantized categories, we can normalize each column with the above formula\n",
    "#whole = ((whole-whole.min())/(whole.max()-whole.min()))\n",
    "print(whole[0:5])"
   ]
  },
  {
   "cell_type": "markdown",
   "metadata": {},
   "source": [
    "***OBTAIN TRAINING AND TEST SETS***\n",
    "<br> In order to split the data into **Training** and **Test**, we take a random sample which contains 80% of the previously built dataframe (called *whole*) and we set it to be the training set. This training set will be normalized and used to obtain the weights in the different models that will be build along this report.\n",
    "<br> On the other hand, the remaining 20% of the random sample will be the test set, and will be used to evaluate and validate the different models."
   ]
  },
  {
   "cell_type": "code",
   "execution_count": 6,
   "metadata": {},
   "outputs": [],
   "source": [
    "# build train dataframe with 80% of the dataset \n",
    "train_df = whole.sample(frac=0.8,random_state=200)\n",
    "\n",
    "# the remaining 20% builds test dataframe\n",
    "test_df = whole.drop(train_df.index)"
   ]
  },
  {
   "cell_type": "code",
   "execution_count": 7,
   "metadata": {},
   "outputs": [
    {
     "data": {
      "text/plain": [
       "800"
      ]
     },
     "execution_count": 7,
     "metadata": {},
     "output_type": "execute_result"
    }
   ],
   "source": [
    "# check length\n",
    "len(train_df) # 800\n",
    "#len(test_df)  # 200"
   ]
  },
  {
   "cell_type": "code",
   "execution_count": 8,
   "metadata": {},
   "outputs": [
    {
     "data": {
      "text/plain": [
       "Index(['G3'], dtype='object')"
      ]
     },
     "execution_count": 8,
     "metadata": {},
     "output_type": "execute_result"
    }
   ],
   "source": [
    "#train_df = train_df.drop(columns='G3') #remove G3 column that we want to predict NONONO\n",
    "train_df.head()\n",
    "train_df.columns[16:17]"
   ]
  },
  {
   "cell_type": "markdown",
   "metadata": {},
   "source": [
    "In the next section, I removed all the redundant features and only left the necessary ones for correct training/prediction. Afterwards, the **training dataframe** was normalized according to the previously mentioned formula."
   ]
  },
  {
   "cell_type": "code",
   "execution_count": 9,
   "metadata": {},
   "outputs": [
    {
     "name": "stdout",
     "output_type": "stream",
     "text": [
      "          age  studytime  failures  famrel  freetime  goout  Dalc  Walc  \\\n",
      "674  0.285714   0.000000  0.000000    0.75       1.0   0.50  0.00   0.0   \n",
      "233  0.428571   0.333333  0.333333    0.00       0.0   0.00  0.00   0.0   \n",
      "739  0.142857   0.000000  0.000000    0.50       0.5   0.25  0.25   0.0   \n",
      "\n",
      "     health  absences  school_GP  school_MS  sex_F  sex_M  famsize_GT3  \\\n",
      "674     1.0  0.074074        0.0        1.0    1.0    0.0          1.0   \n",
      "233     1.0  0.000000        0.0        1.0    1.0    0.0          1.0   \n",
      "739     1.0  0.000000        1.0        0.0    0.0    1.0          1.0   \n",
      "\n",
      "     famsize_LE3  activities_no  higher_no  internet_no  romantic_no  \n",
      "674          0.0            0.0        1.0          1.0          1.0  \n",
      "233          0.0            0.0        0.0          1.0          1.0  \n",
      "739          0.0            1.0        1.0          0.0          0.0  \n"
     ]
    }
   ],
   "source": [
    "# X matrix includes only the indicated features (columns)\n",
    "# X = train_df.drop('G3', axis=1)\n",
    "# The columns with several options may not be linearly dependent, therefore I decided to include every option\n",
    "\n",
    "X = train_df.loc[:, train_df.columns.intersection([\n",
    " 'school_GP',\n",
    " 'school_MS',\n",
    " 'sex_F',\n",
    " 'sex_M',\n",
    " 'age',\n",
    " 'famsize_GT3',\n",
    " 'famsize_LE3',                                            \n",
    " 'studytime',\n",
    " 'failures',\n",
    " 'activities_no',\n",
    " #'activities_yes', ------- redundant\n",
    " 'higher_no',\n",
    " #'higher_yes', ----------- redundant\n",
    " 'internet_no',\n",
    " #'internet_yes', --------- redundant\n",
    " 'romantic_no',\n",
    " #'romantic_yes', --------- redundant\n",
    " 'famrel',                                                  \n",
    " 'freetime',\n",
    " 'goout',\n",
    " 'Dalc',\n",
    " 'Walc',\n",
    " 'health',\n",
    " 'absences'])]\n",
    "X = ((X-X.min())/(X.max()-X.min())) #normalization\n",
    "print(X[0:3])"
   ]
  },
  {
   "cell_type": "code",
   "execution_count": 10,
   "metadata": {},
   "outputs": [
    {
     "data": {
      "text/plain": [
       "20"
      ]
     },
     "execution_count": 10,
     "metadata": {},
     "output_type": "execute_result"
    }
   ],
   "source": [
    "# In case we wanted to include the bias term:\n",
    "#ones = np.ones([X.shape[0],1])\n",
    "#len(ones[0])\n",
    "#X = np.concatenate((ones,X),axis=1)\n",
    "# ---------------------------------------------------------\n",
    "X = X.values # Convert from pandas dataframe to numpy array\n",
    "XT = X.T\n",
    "len(X[0])"
   ]
  },
  {
   "cell_type": "markdown",
   "metadata": {},
   "source": [
    "**X dataframe** is for training. <br> Now **y dataframe** corresponds with the real values of G3 features (the one we seek to predict). It is not normalized."
   ]
  },
  {
   "cell_type": "code",
   "execution_count": 11,
   "metadata": {},
   "outputs": [],
   "source": [
    "y = train_df.iloc[:,16:17].values #G3 column (not normalized)\n",
    "#y = ((y-y.min())/(y.max()-y.min())) #normalization"
   ]
  },
  {
   "cell_type": "markdown",
   "metadata": {},
   "source": [
    "# 1) Linear Regression b)"
   ]
  },
  {
   "cell_type": "markdown",
   "metadata": {},
   "source": [
    "In this section, I implemented a linear regression without the bias term to predict G3. <br> First, weights were calculated according to the next formula, and then the RSME was obtained accordingly."
   ]
  },
  {
   "cell_type": "code",
   "execution_count": 12,
   "metadata": {},
   "outputs": [
    {
     "data": {
      "text/plain": [
       "20"
      ]
     },
     "execution_count": 12,
     "metadata": {},
     "output_type": "execute_result"
    }
   ],
   "source": [
    "# B) -------------------------------------------------------------------------------------------\n",
    "# ---------------------------- w =  (XT X)^-1 (XT) (y) -----------------------------------------\n",
    "# ----------------------------------------------------------------------------------------------\n",
    "\n",
    "product = np.dot(XT,X)  #              XT x X                [20x800]x[800x20] = [20x20]\n",
    "inv = np.linalg.inv(product) #       (XT x X)^-1                                 [20x20]\n",
    "product1 = np.dot(inv,XT) #          (XT x X)^-1 (XT)         [20x20]x[20x800] = [20x800]\n",
    "weights = np.dot(product1,y) #       (XT x X)^-1 (XT) (y)     [20x800]x[800x1] = [20x1]\n",
    "\n",
    "len(weights) #weights returns a 20x1 matrix\n",
    "\n",
    "# ACTUALLY WEIGHTS HAS TO BE TRANSPOSED, SINCE IT HAS TO BE 1X62 TO MATCH IN THE NEXT FUNCTION\n",
    "# SO WE CAN INPUT ITS TRANSPOSED LATER"
   ]
  },
  {
   "cell_type": "markdown",
   "metadata": {},
   "source": [
    "As it was done earlier for the training dataframe, in this case the **testing dataframe** was normalized as well."
   ]
  },
  {
   "cell_type": "code",
   "execution_count": 13,
   "metadata": {},
   "outputs": [
    {
     "name": "stdout",
     "output_type": "stream",
     "text": [
      "   age  studytime  failures  famrel  freetime  goout  Dalc  Walc  health  \\\n",
      "0  0.2   0.333333       0.0    0.75      0.50   0.25  0.00  0.00     0.5   \n",
      "2  0.4   0.666667       0.0    0.75      0.25   0.25  0.25  0.50     1.0   \n",
      "6  0.0   0.333333       0.0    1.00      0.75   0.25  0.50  0.75     1.0   \n",
      "\n",
      "   absences  school_GP  school_MS  sex_F  sex_M  famsize_GT3  famsize_LE3  \\\n",
      "0  0.000000        1.0        0.0    0.0    1.0          1.0          0.0   \n",
      "2  0.133333        1.0        0.0    1.0    0.0          1.0          0.0   \n",
      "6  0.000000        1.0        0.0    0.0    1.0          1.0          0.0   \n",
      "\n",
      "   activities_no  higher_no  internet_no  romantic_no  \n",
      "0            0.0        0.0          0.0          0.0  \n",
      "2            1.0        0.0          0.0          0.0  \n",
      "6            1.0        0.0          0.0          1.0  \n"
     ]
    }
   ],
   "source": [
    "#X_test = test_df.drop('G3', axis=1)\n",
    "X_test = test_df.loc[:, test_df.columns.intersection([\n",
    " 'school_GP',\n",
    " 'school_MS',\n",
    " 'sex_F',\n",
    " 'sex_M',\n",
    " 'age',\n",
    " 'famsize_GT3',\n",
    " 'famsize_LE3',                                            \n",
    " 'studytime',\n",
    " 'failures',\n",
    " 'activities_no',\n",
    " #'activities_yes',\n",
    " 'higher_no',\n",
    " #'higher_yes',\n",
    " 'internet_no',\n",
    " #'internet_yes',\n",
    " 'romantic_no',\n",
    " #'romantic_yes',\n",
    " 'famrel',                                                  \n",
    " 'freetime',\n",
    " 'goout',\n",
    " 'Dalc',\n",
    " 'Walc',\n",
    " 'health',\n",
    " 'absences'])]\n",
    "X_test = ((X_test-X_test.min())/(X_test.max()-X_test.min())) #normalization\n",
    "print(X_test[0:3])"
   ]
  },
  {
   "cell_type": "code",
   "execution_count": 14,
   "metadata": {},
   "outputs": [
    {
     "data": {
      "text/plain": [
       "200"
      ]
     },
     "execution_count": 14,
     "metadata": {},
     "output_type": "execute_result"
    }
   ],
   "source": [
    "#ones_test = np.ones([X_test.shape[0],1])\n",
    "#X_test = np.concatenate((ones_test,X_test),axis=1)\n",
    "X_test = X_test.values # Convert from pandas dataframe to numpy array\n",
    "len(X_test)"
   ]
  },
  {
   "cell_type": "code",
   "execution_count": 15,
   "metadata": {},
   "outputs": [],
   "source": [
    "#y_predicted = np.dot(X_test,weights)\n",
    "#y_predicted1 = (X_test @ weights)\n",
    "# They are the same"
   ]
  },
  {
   "cell_type": "markdown",
   "metadata": {},
   "source": [
    "Then, real values of G3 in the **testing dataframe** were separated in order to perform RSME."
   ]
  },
  {
   "cell_type": "code",
   "execution_count": 16,
   "metadata": {},
   "outputs": [],
   "source": [
    "y_test_actual = test_df.iloc[:,16:17].values #G3 column\n",
    "#y_test_actual = ((y_test_actual-y_test_actual.min())/(y_test_actual.max()-y_test_actual.min())) #normalization\n",
    "#print(test_df[16:])"
   ]
  },
  {
   "cell_type": "code",
   "execution_count": 17,
   "metadata": {},
   "outputs": [],
   "source": [
    "def rmse(X,y,theta):\n",
    "    tobesummed = np.power(((X @ theta.T)-y),2)\n",
    "    return np.power((np.sum(tobesummed)/(len(X))),0.5)"
   ]
  },
  {
   "cell_type": "markdown",
   "metadata": {},
   "source": [
    "**RSME** of the linear regression without bias term:"
   ]
  },
  {
   "cell_type": "code",
   "execution_count": 18,
   "metadata": {},
   "outputs": [
    {
     "data": {
      "text/plain": [
       "20.873793820641783"
      ]
     },
     "execution_count": 18,
     "metadata": {},
     "output_type": "execute_result"
    }
   ],
   "source": [
    "rmse_1b = rmse(X_test,y_test_actual,weights.T) # apartado b)\n",
    "rmse(X_test,y_test_actual,weights.T)"
   ]
  },
  {
   "cell_type": "code",
   "execution_count": 19,
   "metadata": {},
   "outputs": [
    {
     "data": {
      "text/plain": [
       "numpy.float64"
      ]
     },
     "execution_count": 19,
     "metadata": {},
     "output_type": "execute_result"
    }
   ],
   "source": [
    "type(rmse(X_test,y_test_actual,weights.T))"
   ]
  },
  {
   "cell_type": "markdown",
   "metadata": {},
   "source": [
    "# 1) Linear Regression c)"
   ]
  },
  {
   "cell_type": "code",
   "execution_count": 20,
   "metadata": {},
   "outputs": [],
   "source": [
    "# 1C)\n",
    "# -----------------------------------------------------------------------------------------\n",
    "# ------------------------------ R E G U L A R I Z A T I O N ------------------------------\n",
    "# -----------------------------------------------------------------------------------------"
   ]
  },
  {
   "cell_type": "code",
   "execution_count": 21,
   "metadata": {},
   "outputs": [],
   "source": [
    "ident = np.identity(20) # Identity matrix 20x20"
   ]
  },
  {
   "cell_type": "code",
   "execution_count": 22,
   "metadata": {},
   "outputs": [
    {
     "data": {
      "text/plain": [
       "20"
      ]
     },
     "execution_count": 22,
     "metadata": {},
     "output_type": "execute_result"
    }
   ],
   "source": [
    "#ident = 0.5*ident\n",
    "len(ident)"
   ]
  },
  {
   "cell_type": "markdown",
   "metadata": {},
   "source": [
    "**HOW TO FIND THE OPTIMAL WEIGHTS WITH MAXIMUM LIKELIHOOD CRITERION:**\n",
    "<br> While the optimal θ is the same regardless of whether we are maximizing the likelihood or minimizing the KL divergence, the values of the objective functions are diﬀerent. In this part, we can basically translate it to **minimizing the cost function**.\n",
    "<br> The algorithm that I have used for this purpose is the algorithm based on the Normal equation, where:\n",
    "<br> <br> **X --> matrix of training examples\n",
    "<br> y --> vector that contains the labels of the training set**\n",
    "<br>"
   ]
  },
  {
   "cell_type": "markdown",
   "metadata": {},
   "source": [
    "$$\\frac{\\delta }{\\delta \\Theta}\\cdot J(\\Theta) = 0$$"
   ]
  },
  {
   "cell_type": "markdown",
   "metadata": {},
   "source": [
    "$$\\Theta = (X^{T}\\cdot X\\cdot \\lambda I)^{-1}\\cdot X^{T}\\cdot y$$"
   ]
  },
  {
   "cell_type": "markdown",
   "metadata": {},
   "source": [
    "Linear Regression with **regularization** where λ = 1.0 is performed. <br> Weights are obtained as follows:"
   ]
  },
  {
   "cell_type": "code",
   "execution_count": 23,
   "metadata": {},
   "outputs": [
    {
     "name": "stdout",
     "output_type": "stream",
     "text": [
      "[[ 0.16459276]\n",
      " [ 0.9381257 ]\n",
      " [-5.39868585]\n",
      " [ 0.57027125]\n",
      " [ 0.33746943]\n",
      " [-0.71716071]\n",
      " [-1.02918328]\n",
      " [-0.10857258]\n",
      " [-0.66247307]\n",
      " [ 0.47716291]\n",
      " [ 4.18357546]\n",
      " [ 3.63413231]\n",
      " [ 3.75383411]\n",
      " [ 4.06387366]\n",
      " [ 3.58488215]\n",
      " [ 4.23282562]\n",
      " [ 0.14167835]\n",
      " [-1.32237682]\n",
      " [-0.68440618]\n",
      " [ 0.33888714]]\n"
     ]
    }
   ],
   "source": [
    "suma = np.add(product,ident)          #      (XT x X) + lambda*I               [20x800]x[800x20] = [20x20]\n",
    "inv_reg = np.linalg.inv(suma)         #      (XT x X + lambda*I)^-1                                [20x20]\n",
    "product1_reg = np.dot(inv_reg,XT)     #      (XT x X + lambda*I)^-1 (XT)        [20x20]x[20x800] = [20x800]\n",
    "weights_reg = np.dot(product1_reg,y)  #      (XT x X + lambda*I)^-1 (XT) (y)    [20x800]x[800x1] = [20x1]\n",
    "print(weights_reg) # apartado c)"
   ]
  },
  {
   "cell_type": "markdown",
   "metadata": {},
   "source": [
    "**RSME** of the linear regression with regularization term:"
   ]
  },
  {
   "cell_type": "code",
   "execution_count": 24,
   "metadata": {},
   "outputs": [
    {
     "data": {
      "text/plain": [
       "3.1518213909330255"
      ]
     },
     "execution_count": 24,
     "metadata": {},
     "output_type": "execute_result"
    }
   ],
   "source": [
    "rmse_1c = rmse(X_test,y_test_actual,weights_reg.T)\n",
    "rmse(X_test,y_test_actual,weights_reg.T)"
   ]
  },
  {
   "cell_type": "markdown",
   "metadata": {},
   "source": [
    "# 1) Linear Regression d)"
   ]
  },
  {
   "cell_type": "markdown",
   "metadata": {},
   "source": [
    "Implementation of the linear regression with both **regularization + bias** terms:"
   ]
  },
  {
   "cell_type": "code",
   "execution_count": 25,
   "metadata": {},
   "outputs": [
    {
     "name": "stdout",
     "output_type": "stream",
     "text": [
      "[[ 4.73236793]\n",
      " [ 0.13815203]\n",
      " [ 0.91502622]\n",
      " [-5.39786607]\n",
      " [ 0.52556065]\n",
      " [ 0.31145541]\n",
      " [-0.72912569]\n",
      " [-1.02964349]\n",
      " [-0.11933493]\n",
      " [-0.67803796]\n",
      " [ 0.45163476]\n",
      " [ 2.63789753]\n",
      " [ 2.0944704 ]\n",
      " [ 2.20866229]\n",
      " [ 2.52370565]\n",
      " [ 2.04015183]\n",
      " [ 2.6922161 ]\n",
      " [ 0.1303664 ]\n",
      " [-1.32460751]\n",
      " [-0.69207155]\n",
      " [ 0.32691359]]\n"
     ]
    },
    {
     "data": {
      "text/plain": [
       "21"
      ]
     },
     "execution_count": 25,
     "metadata": {},
     "output_type": "execute_result"
    }
   ],
   "source": [
    "# ----------------------------------------------------------------------------------\n",
    "# ------------------------------ R E G  +  B I A S ---------------------------------\n",
    "# ----------------------------------------------------------------------------------\n",
    "# d)\n",
    "# In case we wanted to include the bias term:\n",
    "\n",
    "ones = np.ones([X.shape[0],1])\n",
    "ones = ones*1 # best result, even if mean of y column is 11.29125\n",
    "len(ones[0])\n",
    "X_bias = np.concatenate((ones,X),axis=1)\n",
    "len(X_bias[0])                                          # 800x21     X_train\n",
    "X_biasT = X_bias.T\n",
    "len(X_biasT[0])                                         # 21x800     X_train\n",
    "\n",
    "ones_test = np.ones([X_test.shape[0],1])\n",
    "X_test_bias = np.concatenate((ones_test,X_test),axis=1) # 200x21     X_test\n",
    "\n",
    "# Apply the equation        y_train = weights * X_train + bias\n",
    "\n",
    "product_bias = np.dot(X_biasT,X_bias)\n",
    "ident_bias = np.identity(21)\n",
    "\n",
    "suma_bias = np.add(product_bias,ident_bias)      #      (XT x X) + lambda*I               [21x800]x[800x21] = [21x21]\n",
    "inv_reg_bias = np.linalg.inv(suma_bias)          #      (XT x X + lambda*I)^-1                                [21x21]\n",
    "product1_reg_bias = np.dot(inv_reg_bias,X_biasT) #      (XT x X + lambda*I)^-1 (XT)        [21x21]x[21x800] = [21x800]\n",
    "weights_reg_bias = np.dot(product1_reg_bias,y)   #      (XT x X + lambda*I)^-1 (XT) (y)    [21x800]x[800x1] = [21x1]\n",
    "print(weights_reg_bias)\n",
    "len(weights_reg_bias)"
   ]
  },
  {
   "cell_type": "code",
   "execution_count": 26,
   "metadata": {},
   "outputs": [],
   "source": [
    "#weights_reg_bias = np.delete(weights_reg_bias, 0, 0)\n",
    "#len(weights_reg_bias)"
   ]
  },
  {
   "cell_type": "code",
   "execution_count": 27,
   "metadata": {},
   "outputs": [
    {
     "data": {
      "text/plain": [
       "3.1517006878626965"
      ]
     },
     "execution_count": 27,
     "metadata": {},
     "output_type": "execute_result"
    }
   ],
   "source": [
    "#   X_bias      w        =     y_prediction         (including the reg + bias term)\n",
    "#  [200x21] x [21x21]    =       [200x1]\n",
    "\n",
    "rmse_1d = rmse(X_test_bias,y_test_actual,weights_reg_bias.T) # apartado d)\n",
    "rmse(X_test_bias,y_test_actual,weights_reg_bias.T)"
   ]
  },
  {
   "cell_type": "markdown",
   "metadata": {},
   "source": [
    "# 1) Linear Regression e)"
   ]
  },
  {
   "cell_type": "markdown",
   "metadata": {},
   "source": [
    "**Bayesian Linear Regression** with the bias term is implemented, with: <br> **µ0 = 0** <br> **Λ0 = 1*αI** <br> **α = 1.0**"
   ]
  },
  {
   "cell_type": "code",
   "execution_count": 28,
   "metadata": {},
   "outputs": [],
   "source": [
    "# ------------------------------------------------------------------------------\n",
    "# d) Bayesian Linear Regression\n",
    "\n",
    "Λ0 = np.identity(20)\n",
    "µ0 = 0"
   ]
  },
  {
   "cell_type": "code",
   "execution_count": 29,
   "metadata": {},
   "outputs": [
    {
     "data": {
      "text/plain": [
       "20"
      ]
     },
     "execution_count": 29,
     "metadata": {},
     "output_type": "execute_result"
    }
   ],
   "source": [
    "pro_bay = np.dot(XT,X)\n",
    "inv_Λ0 = np.linalg.inv(Λ0)\n",
    "sum_bay = np.add(pro_bay,inv_Λ0)\n",
    "Λm = np.linalg.inv(sum_bay)\n",
    "len(Λm)                             # [20x20]"
   ]
  },
  {
   "cell_type": "markdown",
   "metadata": {},
   "source": [
    "**µm** are the weights obtained in this regression:"
   ]
  },
  {
   "cell_type": "code",
   "execution_count": 30,
   "metadata": {},
   "outputs": [
    {
     "name": "stdout",
     "output_type": "stream",
     "text": [
      "[[ 0.16459276]\n",
      " [ 0.9381257 ]\n",
      " [-5.39868585]\n",
      " [ 0.57027125]\n",
      " [ 0.33746943]\n",
      " [-0.71716071]\n",
      " [-1.02918328]\n",
      " [-0.10857258]\n",
      " [-0.66247307]\n",
      " [ 0.47716291]\n",
      " [ 4.18357546]\n",
      " [ 3.63413231]\n",
      " [ 3.75383411]\n",
      " [ 4.06387366]\n",
      " [ 3.58488215]\n",
      " [ 4.23282562]\n",
      " [ 0.14167835]\n",
      " [-1.32237682]\n",
      " [-0.68440618]\n",
      " [ 0.33888714]]\n"
     ]
    }
   ],
   "source": [
    "pro_bay1 = np.dot(XT,y)\n",
    "# since µ0 = 0, we can neglect the term Λ0^(−1) * µ0\n",
    "# Therefore:\n",
    "µm = np.dot(Λm,pro_bay1) # weights [20x1] apartado d)\n",
    "print(µm)"
   ]
  },
  {
   "cell_type": "markdown",
   "metadata": {},
   "source": [
    "The **RMSE** of Bayesian Linear Regression is:"
   ]
  },
  {
   "cell_type": "code",
   "execution_count": 31,
   "metadata": {},
   "outputs": [
    {
     "data": {
      "text/plain": [
       "3.1518213909330397"
      ]
     },
     "execution_count": 31,
     "metadata": {},
     "output_type": "execute_result"
    }
   ],
   "source": [
    "rmse_1e = rmse(X_test,y_test_actual,µm.T)\n",
    "rmse(X_test,y_test_actual,µm.T)"
   ]
  },
  {
   "cell_type": "markdown",
   "metadata": {},
   "source": [
    "# 1) Linear Regression f)"
   ]
  },
  {
   "cell_type": "markdown",
   "metadata": {},
   "source": [
    "Up to this point, I have performed Linear Regression without bias **(b)**, with regularization **(c)**, with regularization + bias **(d)** and Bayesian Linear Regression with bias **(e)**. <br> Now, it is time to plot all the values predicted by each model, in order to compare their performance:"
   ]
  },
  {
   "cell_type": "code",
   "execution_count": 32,
   "metadata": {},
   "outputs": [
    {
     "data": {
      "text/plain": [
       "1"
      ]
     },
     "execution_count": 32,
     "metadata": {},
     "output_type": "execute_result"
    }
   ],
   "source": [
    "# PLOT VALUES PREDICTED BY EVERY MODEL:\n",
    "\n",
    "# Linear Regression without bias                     [weights]               20x1\n",
    "# y = wT X\n",
    "y_no_bias = np.dot(X_test,weights)\n",
    "len(y_no_bias[0])\n",
    "\n",
    "# Regularized Linear Regression without bias         [weights_reg]           20x1\n",
    "y_reg_no_bias = np.dot(X_test,weights_reg)\n",
    "len(y_reg_no_bias)\n",
    "\n",
    "# Regularized Linear Regression with bias            [weights_reg_bias]      21x1\n",
    "y_reg_bias = np.dot(X_test_bias,weights_reg_bias)\n",
    "len(y_reg_bias)\n",
    "\n",
    "# Bayesian Linear Regression                         [µm]                    20x1\n",
    "y_bayesian = np.dot(X_test,µm)\n",
    "len(y_bayesian[0])"
   ]
  },
  {
   "cell_type": "markdown",
   "metadata": {},
   "source": [
    "**COMPARISON BETWEEN RMSE IN DIFFERENT MODELS and why certain models are closer to the GROUND TRUTH:**"
   ]
  },
  {
   "cell_type": "code",
   "execution_count": 33,
   "metadata": {},
   "outputs": [
    {
     "data": {
      "text/html": [
       "<div>\n",
       "<style scoped>\n",
       "    .dataframe tbody tr th:only-of-type {\n",
       "        vertical-align: middle;\n",
       "    }\n",
       "\n",
       "    .dataframe tbody tr th {\n",
       "        vertical-align: top;\n",
       "    }\n",
       "\n",
       "    .dataframe thead th {\n",
       "        text-align: right;\n",
       "    }\n",
       "</style>\n",
       "<table border=\"1\" class=\"dataframe\">\n",
       "  <thead>\n",
       "    <tr style=\"text-align: right;\">\n",
       "      <th></th>\n",
       "      <th>Model</th>\n",
       "      <th>RMSE</th>\n",
       "    </tr>\n",
       "  </thead>\n",
       "  <tbody>\n",
       "    <tr>\n",
       "      <th>0</th>\n",
       "      <td>W/O bias (b)</td>\n",
       "      <td>20.873794</td>\n",
       "    </tr>\n",
       "    <tr>\n",
       "      <th>1</th>\n",
       "      <td>Regularization (c)</td>\n",
       "      <td>3.151821</td>\n",
       "    </tr>\n",
       "    <tr>\n",
       "      <th>2</th>\n",
       "      <td>W/ bias + regularization (d)</td>\n",
       "      <td>3.151701</td>\n",
       "    </tr>\n",
       "    <tr>\n",
       "      <th>3</th>\n",
       "      <td>Bayesian Regression (e)</td>\n",
       "      <td>3.151821</td>\n",
       "    </tr>\n",
       "  </tbody>\n",
       "</table>\n",
       "</div>"
      ],
      "text/plain": [
       "                          Model       RMSE\n",
       "0                  W/O bias (b)  20.873794\n",
       "1            Regularization (c)   3.151821\n",
       "2  W/ bias + regularization (d)   3.151701\n",
       "3       Bayesian Regression (e)   3.151821"
      ]
     },
     "execution_count": 33,
     "metadata": {},
     "output_type": "execute_result"
    }
   ],
   "source": [
    "rmse_df = {'Model': ['W/O bias (b)', 'Regularization (c)', 'W/ bias + regularization (d)', 'Bayesian Regression (e)'], 'RMSE': [rmse_1b, rmse_1c, rmse_1d, rmse_1e]}                   \n",
    "rmse_df = pd.DataFrame(data = rmse_df)\n",
    "rmse_df"
   ]
  },
  {
   "cell_type": "markdown",
   "metadata": {},
   "source": [
    "In **d) Linear Regression with bias and regularization terms**, the bias term has been initialized as a column of ones, and the regularization has been made in order to make the weights shrink according to the chosen regularized parameter."
   ]
  },
  {
   "cell_type": "markdown",
   "metadata": {},
   "source": [
    "In **e) Bayesian Regression**, µ0 is the prior distribution mean vector and Λ0 is the covariance matrix. Generally, this covariance matrix Λ0 = diag(λ0)."
   ]
  },
  {
   "cell_type": "markdown",
   "metadata": {},
   "source": [
    "$$\\Lambda _{m} = (X^{T}\\cdot X + \\Lambda _{0}^{-1})^{-1}$$"
   ]
  },
  {
   "cell_type": "markdown",
   "metadata": {},
   "source": [
    "$$\\mu _{m} = \\Lambda _{m}\\cdot (X^{T}\\cdot y + \\Lambda _{0}^{-1}\\cdot \\mu _{0})$$"
   ]
  },
  {
   "cell_type": "markdown",
   "metadata": {},
   "source": [
    "For the given problem µ0 = 0 and Λ0 = (1/α)I, where (α=1.0), therefore we first built Λ0 = (1/α)I, where  α = 1.0, µ0 = 0"
   ]
  },
  {
   "cell_type": "code",
   "execution_count": 34,
   "metadata": {},
   "outputs": [
    {
     "data": {
      "image/png": "[encoded data removed]",
      "text/plain": [
       "<Figure size 1332x756 with 1 Axes>"
      ]
     },
     "metadata": {
      "needs_background": "light"
     },
     "output_type": "display_data"
    }
   ],
   "source": [
    "plt.plot(y_test_actual, label = 'Ground Truth')\n",
    "plt.plot(y_no_bias, label = '20.8737 Linear Regression')\n",
    "plt.plot(y_reg_no_bias, label = '3.1518 Linear Regression (reg)')\n",
    "plt.plot(y_reg_bias, label = '3.1517 Linear Regression (reg/bias)')\n",
    "plt.plot(y_bayesian, label = '3.1518 Bayesian Linear Regression')\n",
    "#plt.show()\n",
    "\n",
    "plt.legend(loc='upper left')\n",
    "\n",
    "fig = plt.gcf()\n",
    "fig.set_size_inches(18.5, 10.5)\n",
    "\n",
    "#fig.savefig('test2png.png', dpi=100)"
   ]
  },
  {
   "cell_type": "markdown",
   "metadata": {},
   "source": [
    "# 2) Classification a)"
   ]
  },
  {
   "cell_type": "markdown",
   "metadata": {},
   "source": [
    "In this second section, I have created an extra feature (**G3_label**) that is based on the value of the previous target feature **G3**. In this case, if G3 is greater or equal to 10, G3_label = 1, otherwise G3_label = 0. <br> <br> **if** G3 >= 10, **G3_label = 1** <br> otherwise, **G3_label = 0**"
   ]
  },
  {
   "cell_type": "code",
   "execution_count": 35,
   "metadata": {},
   "outputs": [],
   "source": [
    "## C L A S S I F I C A T I O N\n",
    "\n",
    "#df['elderly'] = np.where(df['age']>=50, 'yes', 'no')\n",
    "train_df['G3_label'] = np.where(train_df['G3']>=10, 1, 0)\n",
    "test_df['G3_label'] = np.where(test_df['G3']>=10, 1, 0)"
   ]
  },
  {
   "cell_type": "code",
   "execution_count": 36,
   "metadata": {},
   "outputs": [
    {
     "name": "stdout",
     "output_type": "stream",
     "text": [
      "      ID  age  Medu  Fedu  traveltime  studytime  failures  famrel  freetime  \\\n",
      "674  675   17     2     2           1          1         0       4         5   \n",
      "233  234   18     1     1           2          2         1       1         1   \n",
      "739  740   16     4     4           1          1         0       3         3   \n",
      "\n",
      "     goout    ...     nursery_yes  higher_no  higher_yes  internet_no  \\\n",
      "674      3    ...               1          1           0            1   \n",
      "233      1    ...               1          0           1            1   \n",
      "739      2    ...               1          1           0            0   \n",
      "\n",
      "     internet_yes  romantic_no  romantic_yes  cat_mat  cat_por  G3_label  \n",
      "674             0            1             0        0        1         1  \n",
      "233             0            1             0        1        0         0  \n",
      "739             1            0             1        1        0         0  \n",
      "\n",
      "[3 rows x 63 columns]\n"
     ]
    }
   ],
   "source": [
    "print(train_df[:3]) #800x63 (extra column G3_label is created)"
   ]
  },
  {
   "cell_type": "markdown",
   "metadata": {},
   "source": [
    "In this case, for **training**, the feature used is no longer G3, but **G3_label** instead:"
   ]
  },
  {
   "cell_type": "code",
   "execution_count": 37,
   "metadata": {},
   "outputs": [
    {
     "data": {
      "text/plain": [
       "1"
      ]
     },
     "execution_count": 37,
     "metadata": {},
     "output_type": "execute_result"
    }
   ],
   "source": [
    "# The testing X used previously continues being the same here [800x20]. G3 is not present nor G3_label does.\n",
    "# However, we should include both regularization and bias, therefore we would use the matrix X_bias [800x21] (also X_biasT)\n",
    "\n",
    "# The y used correspond to G3_label\n",
    "\n",
    "y = train_df.iloc[:,62:63].values #G3_label column (not normalized) [800x1]\n",
    "len(y[0]) # y was renamed\n",
    "\n",
    "# X_test_bias is the same as before [200x21]\n",
    "#print(y)"
   ]
  },
  {
   "cell_type": "markdown",
   "metadata": {},
   "source": [
    "For obtaining the weights, the **Identity matrix I** is 21x21 (add additional 1x1 due to the bias term). <br> **λ = 1.0**"
   ]
  },
  {
   "cell_type": "code",
   "execution_count": 38,
   "metadata": {},
   "outputs": [
    {
     "name": "stdout",
     "output_type": "stream",
     "text": [
      "[[ 0.31771678]\n",
      " [-0.01991662]\n",
      " [ 0.07370301]\n",
      " [-0.57676266]\n",
      " [ 0.09310178]\n",
      " [ 0.01611168]\n",
      " [-0.0907174 ]\n",
      " [-0.07932978]\n",
      " [ 0.03433995]\n",
      " [-0.01846475]\n",
      " [-0.22978953]\n",
      " [ 0.20515985]\n",
      " [ 0.11255693]\n",
      " [ 0.16116493]\n",
      " [ 0.15655184]\n",
      " [ 0.13342126]\n",
      " [ 0.18429551]\n",
      " [ 0.00511374]\n",
      " [-0.13329837]\n",
      " [-0.0160102 ]\n",
      " [ 0.01697763]]\n"
     ]
    }
   ],
   "source": [
    "# Apply the equation        y_train = weights * X_train + bias\n",
    "\n",
    "product_clas = np.dot(X_biasT,X_bias)\n",
    "ident_clas = np.identity(21)\n",
    "\n",
    "suma_clas = np.add(product_clas,ident_clas)      #      (XT x X) + lambda*I               [21x800]x[800x21] = [21x21]\n",
    "inv_clas = np.linalg.inv(suma_clas)              #      (XT x X + lambda*I)^-1                                [21x21]\n",
    "product1_clas = np.dot(inv_clas,X_biasT)         #      (XT x X + lambda*I)^-1 (XT)        [21x21]x[21x800] = [21x800]\n",
    "weights_clas = np.dot(product1_clas,y)           #      (XT x X + lambda*I)^-1 (XT) (y)    [21x800]x[800x1] = [21x1]\n",
    "print(weights_clas)"
   ]
  },
  {
   "cell_type": "markdown",
   "metadata": {},
   "source": [
    "Before moving forward, y_test_actual corresponds to the real values of **G3_label** in the testing dataframe, which will be used later on to evaluate the performance and accuracy of our model."
   ]
  },
  {
   "cell_type": "code",
   "execution_count": 39,
   "metadata": {},
   "outputs": [
    {
     "data": {
      "text/plain": [
       "1"
      ]
     },
     "execution_count": 39,
     "metadata": {},
     "output_type": "execute_result"
    }
   ],
   "source": [
    "# update y_test_actual from G3 column to G3_label column (the binary column we created before)\n",
    "\n",
    "y_test_actual = test_df.iloc[:,62:63].values #G3 column\n",
    "len(y_test_actual[0])"
   ]
  },
  {
   "cell_type": "code",
   "execution_count": 40,
   "metadata": {},
   "outputs": [
    {
     "data": {
      "text/plain": [
       "0.377899469331469"
      ]
     },
     "execution_count": 40,
     "metadata": {},
     "output_type": "execute_result"
    }
   ],
   "source": [
    "rmse(X_test_bias,y_test_actual,weights_clas.T) # apartado 2a)"
   ]
  },
  {
   "cell_type": "markdown",
   "metadata": {},
   "source": [
    "**Classification Prediction of the Linear Regression Model**, before applying the different **THRESHOLD** values:"
   ]
  },
  {
   "cell_type": "code",
   "execution_count": 41,
   "metadata": {},
   "outputs": [],
   "source": [
    "# Prediction for classification\n",
    "# Regularized Linear Regression with bias            [weights_clas]      21x1\n",
    "y_clas = np.dot(X_test_bias,weights_clas)\n",
    "#print(y_clas)"
   ]
  },
  {
   "cell_type": "markdown",
   "metadata": {},
   "source": [
    "**Classification Prediction of the Linear Regression Model**, after applying the different **THRESHOLD** values:\n",
    "<br> **0.1**\n",
    "<br> **0.5**\n",
    "<br> **0.9**"
   ]
  },
  {
   "cell_type": "code",
   "execution_count": 42,
   "metadata": {},
   "outputs": [],
   "source": [
    "y_clas_01 = np.where(y_clas>=0.1, 1, 0)\n",
    "y_clas_05 = np.where(y_clas>=0.5, 1, 0)\n",
    "y_clas_09 = np.where(y_clas>=0.9, 1, 0)\n",
    "#print(y_clas_09)"
   ]
  },
  {
   "cell_type": "markdown",
   "metadata": {},
   "source": [
    "# 2) Classification b)"
   ]
  },
  {
   "cell_type": "markdown",
   "metadata": {},
   "source": [
    "**Logistic Regression** model is applied now. After the weights are calculated (by using **Gradient Descent**), prediction is made. Then, the same threshold as in the previous case are applied:\n",
    "<br> **0.1**\n",
    "<br> **0.5**\n",
    "<br> **0.9**"
   ]
  },
  {
   "cell_type": "markdown",
   "metadata": {},
   "source": [
    "**GRADIENT DESCENT ALGORITHM**"
   ]
  },
  {
   "cell_type": "markdown",
   "metadata": {},
   "source": [
    "Cost (h0(x),y) = {\n",
    "<br> **-log(h0(x))** if y = 1,\n",
    "<br> **-log(1-h0(x))** if y = 0\n",
    "<br> }"
   ]
  },
  {
   "cell_type": "markdown",
   "metadata": {},
   "source": [
    "$$J(\\Theta ) = -\\frac{1}{m}\\cdot [ \\sum_{i=1}^{m}y_{i}\\cdot log h_{0}(x_{i})+(1-y_{i})log(1-h_{0}(x_{i}))]$$"
   ]
  },
  {
   "cell_type": "markdown",
   "metadata": {},
   "source": [
    "So, if we want to minimize the cost function as a function ϴ, we can repeatedly update each parameter as for the gradient descent such as:"
   ]
  },
  {
   "cell_type": "markdown",
   "metadata": {},
   "source": [
    "$$\\Theta _{j}:=\\Theta _{j}-\\frac{\\alpha }{m}\\sum_{i=1}^{m}(h_{0}(x_{i})-y_{i})x_{ij}$$"
   ]
  },
  {
   "cell_type": "code",
   "execution_count": 43,
   "metadata": {},
   "outputs": [
    {
     "data": {
      "text/plain": [
       "800"
      ]
     },
     "execution_count": 43,
     "metadata": {},
     "output_type": "execute_result"
    }
   ],
   "source": [
    "# 2b) Predict G3_label based on the features previously used, by using Logistic Regression.\n",
    "# Use regularization (lambda=1) and bias term.\n",
    "# Use different thresholds for prediction, 0.1, 0.5, 0.9\n",
    "\n",
    "# Training\n",
    "# Same X is used [800x20]\n",
    "# y is used [800x1], G3_label\n",
    "len(y)"
   ]
  },
  {
   "cell_type": "markdown",
   "metadata": {},
   "source": [
    "Before moving forward to the model, let us first have a better understanding of the data we are dealing with. I want to know, from the training dataset, how many **G3_label** records correspond to **True** and how many of them correspond to **False**. Let us plot a bar chart, too."
   ]
  },
  {
   "cell_type": "code",
   "execution_count": 44,
   "metadata": {},
   "outputs": [],
   "source": [
    "count_0 = 0\n",
    "count_1 = 0\n",
    "for i in range (0, len(y)):\n",
    "    if y[i] == 0:\n",
    "        count_0 = count_0 + 1\n",
    "    elif y[i] == 1:\n",
    "        count_1 += 1"
   ]
  },
  {
   "cell_type": "code",
   "execution_count": 45,
   "metadata": {},
   "outputs": [
    {
     "name": "stdout",
     "output_type": "stream",
     "text": [
      "  values  counts\n",
      "0      0     182\n",
      "1      1     618\n"
     ]
    }
   ],
   "source": [
    "df = {'values': ['0','1'], 'counts': [count_0, count_1]}\n",
    "df_y = pd.DataFrame(data=df)\n",
    "print(df_y)"
   ]
  },
  {
   "cell_type": "code",
   "execution_count": 46,
   "metadata": {},
   "outputs": [
    {
     "data": {
      "text/plain": [
       "<matplotlib.axes._subplots.AxesSubplot at 0x208b5106748>"
      ]
     },
     "execution_count": 46,
     "metadata": {},
     "output_type": "execute_result"
    },
    {
     "data": {
      "image/png": "[encoded data removed]",
      "text/plain": [
       "<Figure size 432x288 with 1 Axes>"
      ]
     },
     "metadata": {
      "needs_background": "light"
     },
     "output_type": "display_data"
    }
   ],
   "source": [
    "df_y.plot.bar(x='values', y='counts', rot=0) # real G3_label"
   ]
  },
  {
   "cell_type": "code",
   "execution_count": 47,
   "metadata": {},
   "outputs": [],
   "source": [
    "# hypothesis (prediction)\n",
    "#                                      1\n",
    "#                            h0 = ------------\n",
    "#                                 1 + e^(-wT*X)\n",
    "\n",
    "# Gradient descent\n",
    "\n",
    "# 1- For making the prediction y = h0, we need weights (theta) and X_test\n",
    "# weights are obtained through gradient descent, updating theta (w):\n",
    "#                                                                    w = w - alpha* sum (hw(x) - y)*X       (for i = 0 to n)\n"
   ]
  },
  {
   "cell_type": "markdown",
   "metadata": {},
   "source": [
    "θ correspond to the weights of the Logistic Linear Regression. I have chosen to initialize them to **zero**."
   ]
  },
  {
   "cell_type": "code",
   "execution_count": 48,
   "metadata": {},
   "outputs": [],
   "source": [
    "theta = np.zeros((X_bias.shape[1], 1)) # length of 21 due to bias term"
   ]
  },
  {
   "cell_type": "markdown",
   "metadata": {},
   "source": [
    "**Sigmoid function** is created to map any real value between 0 and 1:"
   ]
  },
  {
   "cell_type": "code",
   "execution_count": 49,
   "metadata": {},
   "outputs": [],
   "source": [
    "# hypothesis (prediction) --> sigmoid function\n",
    "#                                      1\n",
    "#                            hθ = ------------\n",
    "#                                 1 + e^(-θT*X)\n",
    "\n",
    "# θ [21x1] (because includes bias term)\n",
    "# θT [1x21]\n",
    "# X_bias [800x21]\n",
    "\n",
    "\n",
    "def sigmoid(theta,x):\n",
    "    # Activation function used to map any real value between 0 and 1\n",
    "    exponent = np.dot(x,theta)\n",
    "    return 1 / (1 + np.exp(-exponent))"
   ]
  },
  {
   "cell_type": "code",
   "execution_count": 50,
   "metadata": {},
   "outputs": [
    {
     "data": {
      "text/plain": [
       "800"
      ]
     },
     "execution_count": 50,
     "metadata": {},
     "output_type": "execute_result"
    }
   ],
   "source": [
    "# hθ (hypothesis, prediction) must be a matrix of [800x1] = [800x21][21x1]\n",
    "#                                                   hθ    =  X_bias   θ\n",
    "\n",
    "len(sigmoid(theta,X_bias)) # prediction == [800x1]"
   ]
  },
  {
   "cell_type": "markdown",
   "metadata": {},
   "source": [
    "**Gradient Descent** function is created to evaluate the error and update the values of θ for the specified number of iterations:"
   ]
  },
  {
   "cell_type": "code",
   "execution_count": 51,
   "metadata": {},
   "outputs": [],
   "source": [
    "#gradient descent\n",
    "\n",
    "# alpha = learning rate\n",
    "# iters = number of iterations\n",
    "\n",
    "def gradientDescent(X,y,theta,iters,alpha):\n",
    "    ratio = alpha/y.shape[0]\n",
    "    for i in range(iters):\n",
    "        theta = theta - (ratio * (X.T @ (sigmoid(theta,X) - y)))\n",
    "    \n",
    "    return theta"
   ]
  },
  {
   "cell_type": "markdown",
   "metadata": {},
   "source": [
    "Weights from **Logistic Regression** are obtained as follows:"
   ]
  },
  {
   "cell_type": "code",
   "execution_count": 52,
   "metadata": {},
   "outputs": [
    {
     "name": "stdout",
     "output_type": "stream",
     "text": [
      "[[ 0.44820538]\n",
      " [-0.28974886]\n",
      " [ 0.5547679 ]\n",
      " [-1.59433185]\n",
      " [ 0.49438836]\n",
      " [ 0.00997647]\n",
      " [-0.26928274]\n",
      " [-0.25291773]\n",
      " [-0.16186624]\n",
      " [-0.01411598]\n",
      " [-0.28149097]\n",
      " [ 0.48722251]\n",
      " [-0.03901714]\n",
      " [ 0.24750223]\n",
      " [ 0.20070315]\n",
      " [ 0.05136838]\n",
      " [ 0.39683699]\n",
      " [-0.01600618]\n",
      " [-0.70668936]\n",
      " [-0.10974106]\n",
      " [ 0.25147143]]\n"
     ]
    }
   ],
   "source": [
    "alpha = 0.1\n",
    "iters = 800\n",
    "weights_logr = gradientDescent(X_bias,y,theta,iters,alpha)\n",
    "print(weights_logr)"
   ]
  },
  {
   "cell_type": "code",
   "execution_count": 53,
   "metadata": {},
   "outputs": [
    {
     "data": {
      "text/plain": [
       "21"
      ]
     },
     "execution_count": 53,
     "metadata": {},
     "output_type": "execute_result"
    }
   ],
   "source": [
    "len(weights_logr)"
   ]
  },
  {
   "cell_type": "markdown",
   "metadata": {},
   "source": [
    "Now that the weights are known, let us:\n",
    "<br> <br> **Predict** the values of G3_label (**no threshold**)\n",
    "<br> **Apply 0.1, 0.5, 0.9 threholds** to the prediction."
   ]
  },
  {
   "cell_type": "code",
   "execution_count": 54,
   "metadata": {},
   "outputs": [],
   "source": [
    "# Prediction\n",
    "prediction_logistic = sigmoid(weights_logr,X_test_bias)"
   ]
  },
  {
   "cell_type": "code",
   "execution_count": 55,
   "metadata": {},
   "outputs": [],
   "source": [
    "#print(prediction_logistic)\n",
    "y_logr_01 = np.where(prediction_logistic>=0.1, 1, 0)\n",
    "y_logr_05 = np.where(prediction_logistic>=0.5, 1, 0)\n",
    "y_logr_09 = np.where(prediction_logistic>=0.9, 1, 0)"
   ]
  },
  {
   "cell_type": "markdown",
   "metadata": {},
   "source": [
    "The following block of code intends to **count**:\n",
    "<br> <br> Total number of positives/negatives\n",
    "<br> True positives\n",
    "<br> True negatives\n",
    "<br> False positives\n",
    "<br> False negatives\n",
    "<br> (for all thresholds of **Linear Regression** and **Logistic Regression**)\n",
    "<br> <br> With all this information, plotting the **confusion matrices** will be a pretty easy task."
   ]
  },
  {
   "cell_type": "code",
   "execution_count": 56,
   "metadata": {},
   "outputs": [],
   "source": [
    "contador_y_clas_01 = 0     # counter of correct guesses (TP + TN)\n",
    "contador_y_clas_05 = 0\n",
    "contador_y_clas_09 = 0\n",
    "contador_y_logr_01 = 0\n",
    "contador_y_logr_05 = 0\n",
    "contador_y_logr_09 = 0\n",
    "count_y_actual_true = 0\n",
    "\n",
    "# --------------------------- For confusion matrix --------------\n",
    "\n",
    "truepos_clas_01 = 0\n",
    "trueneg_clas_01 = 0\n",
    "falsepos_clas_01 = 0\n",
    "falseneg_clas_01 = 0\n",
    "\n",
    "truepos_clas_05 = 0\n",
    "trueneg_clas_05 = 0\n",
    "falsepos_clas_05 = 0\n",
    "falseneg_clas_05 = 0\n",
    "\n",
    "truepos_clas_09 = 0\n",
    "trueneg_clas_09 = 0\n",
    "falsepos_clas_09 = 0\n",
    "falseneg_clas_09 = 0\n",
    "\n",
    "truepos_logr_01 = 0\n",
    "trueneg_logr_01 = 0\n",
    "falsepos_logr_01 = 0\n",
    "falseneg_logr_01 = 0\n",
    "\n",
    "truepos_logr_05 = 0\n",
    "trueneg_logr_05 = 0\n",
    "falsepos_logr_05 = 0\n",
    "falseneg_logr_05 = 0\n",
    "\n",
    "truepos_logr_09 = 0\n",
    "trueneg_logr_09 = 0\n",
    "falsepos_logr_09 = 0\n",
    "falseneg_logr_09 = 0\n",
    "\n",
    "# ----------------------------------------------------------------\n",
    "\n",
    "for i in range (0,len(y_test_actual)):       # Correct guesses:\n",
    "    \n",
    "# -------------------- accuracy ----------------------------------\n",
    "\n",
    "    if y_clas_01[i] == y_test_actual[i]:\n",
    "        contador_y_clas_01 += 1                 #158/200\n",
    "    if y_clas_05[i] == y_test_actual[i]:\n",
    "        contador_y_clas_05 += 1                 #164/200\n",
    "    if y_clas_09[i] == y_test_actual[i]:\n",
    "        contador_y_clas_09 += 1                 # 66/200\n",
    "    if y_logr_01[i] == y_test_actual[i]:\n",
    "        contador_y_logr_01 += 1                 #158/200\n",
    "    if y_logr_05[i] == y_test_actual[i]:\n",
    "        contador_y_logr_05 += 1                 #158/200\n",
    "    if y_logr_09[i] == y_test_actual[i]:\n",
    "        contador_y_logr_09 += 1                 # 42/200\n",
    "        \n",
    "# ------------- number of real positives (real negatives = total - real positives) --------------------\n",
    "\n",
    "    if y_test_actual[i] == 1:\n",
    "        count_y_actual_true += 1             # REAL VALUES ARE: 158 true 42 false (accuracy 200/200)\n",
    "        \n",
    "# ----------------- for confusion matrix: true positives/negatives, false pos/neg ---------------------\n",
    "\n",
    "    if y_clas_01[i] == y_test_actual[i] == 1:      # true positives         LINEAR REGRESSION CLASSIFICATION 0.1\n",
    "        truepos_clas_01 += 1\n",
    "    if y_clas_01[i] == y_test_actual[i] == 0:      # true negatives\n",
    "        trueneg_clas_01 += 1\n",
    "    if y_clas_01[i] == 1 and y_test_actual[i] == 0: # false positives\n",
    "        falsepos_clas_01 += 1\n",
    "    if y_clas_05[i] == 0 and y_test_actual[i] == 1: # false negatives\n",
    "        falseneg_clas_01 += 1\n",
    "        \n",
    "    if y_clas_05[i] == y_test_actual[i] == 1:      # true positives         LINEAR REGRESSION CLASSIFICATION 0.5\n",
    "        truepos_clas_05 += 1\n",
    "    if y_clas_05[i] == y_test_actual[i] == 0:      # true negatives\n",
    "        trueneg_clas_05 += 1\n",
    "    if y_clas_05[i] == 1 and y_test_actual[i] == 0: # false positives\n",
    "        falsepos_clas_05 += 1\n",
    "    if y_clas_05[i] == 0 and y_test_actual[i] == 1: # false negatives\n",
    "        falseneg_clas_05 += 1\n",
    "        \n",
    "    if y_clas_09[i] == y_test_actual[i] == 1:      # true positives         LINEAR REGRESSION CLASSIFICATION 0.9\n",
    "        truepos_clas_09 += 1\n",
    "    if y_clas_09[i] == y_test_actual[i] == 0:      # true negatives\n",
    "        trueneg_clas_09 += 1\n",
    "    if y_clas_09[i] == 1 and y_test_actual[i] == 0: # false positives\n",
    "        falsepos_clas_09 += 1\n",
    "    if y_clas_09[i] == 0 and y_test_actual[i] == 1: # false negatives\n",
    "        falseneg_clas_09 += 1\n",
    "    \n",
    "    if y_logr_01[i] == y_test_actual[i] == 1:       # true positives        LOGISTIC REGRESSION 0.1\n",
    "        truepos_logr_01 += 1\n",
    "    if y_logr_01[i] == y_test_actual[i] == 0:       # true negatives\n",
    "        trueneg_logr_01 += 1\n",
    "    if y_logr_01[i] == 1 and y_test_actual[i] == 0: # false positives\n",
    "        falsepos_logr_01 += 1\n",
    "    if y_logr_01[i] == 0 and y_test_actual[i] == 1: # false negatives\n",
    "        falseneg_logr_01 += 1\n",
    "        \n",
    "    if y_logr_05[i] == y_test_actual[i] == 1:       # true positives        LOGISTIC REGRESSION 0.5\n",
    "        truepos_logr_05 += 1\n",
    "    if y_logr_05[i] == y_test_actual[i] == 0:       # true negatives\n",
    "        trueneg_logr_05 += 1\n",
    "    if y_logr_05[i] == 1 and y_test_actual[i] == 0: # false positives\n",
    "        falsepos_logr_05 += 1\n",
    "    if y_logr_05[i] == 0 and y_test_actual[i] == 1: # false negatives\n",
    "        falseneg_logr_05 += 1\n",
    "        \n",
    "    if y_logr_09[i] == y_test_actual[i] == 1:       # true positives        LOGISTIC REGRESSION 0.9\n",
    "        truepos_logr_09 += 1\n",
    "    if y_logr_05[i] == y_test_actual[i] == 0:       # true negatives\n",
    "        trueneg_logr_09 += 1\n",
    "    if y_logr_09[i] == 1 and y_test_actual[i] == 0: # false positives\n",
    "        falsepos_logr_09 += 1\n",
    "    if y_logr_09[i] == 0 and y_test_actual[i] == 1: # false negatives\n",
    "        falseneg_logr_09 += 1"
   ]
  },
  {
   "cell_type": "markdown",
   "metadata": {},
   "source": [
    "Record of **ACCURACIES**:"
   ]
  },
  {
   "cell_type": "code",
   "execution_count": 57,
   "metadata": {},
   "outputs": [
    {
     "data": {
      "text/plain": [
       "0.7669902912621359"
      ]
     },
     "execution_count": 57,
     "metadata": {},
     "output_type": "execute_result"
    }
   ],
   "source": [
    "# Accuracy of each model (Linear vs Logistic Regression) with different threshold values\n",
    "\n",
    "\n",
    "#                                      TP + TN\n",
    "#                ACCURACY  =  ---------------------------\n",
    "#                                 TP + TN + FP + FN\n",
    "\n",
    "tot = len(y_test_actual)\n",
    "acc_clas_01 = (truepos_clas_01+trueneg_clas_01)/(truepos_clas_01+trueneg_clas_01+falsepos_clas_01+falseneg_clas_01)\n",
    "acc_clas_05 = (truepos_clas_05+trueneg_clas_05)/(truepos_clas_05+trueneg_clas_05+falsepos_clas_05+falseneg_clas_05)\n",
    "acc_clas_09 = (truepos_clas_09+trueneg_clas_09)/(truepos_clas_09+trueneg_clas_09+falsepos_clas_09+falseneg_clas_09)\n",
    "acc_logr_01 = (truepos_logr_01+trueneg_logr_01)/(truepos_logr_01+trueneg_logr_01+falsepos_logr_01+falseneg_logr_01)\n",
    "acc_logr_05 = (truepos_logr_05+trueneg_logr_05)/(truepos_logr_05+trueneg_logr_05+falsepos_logr_05+falseneg_logr_05)\n",
    "acc_logr_09 = (truepos_logr_09+trueneg_logr_09)/(truepos_logr_09+trueneg_logr_09+falsepos_logr_09+falseneg_logr_09)\n",
    "\n",
    "acc_clas_01"
   ]
  },
  {
   "cell_type": "markdown",
   "metadata": {},
   "source": [
    "Record of **PRECISIONS**:"
   ]
  },
  {
   "cell_type": "code",
   "execution_count": 58,
   "metadata": {},
   "outputs": [],
   "source": [
    "# Precision of each model (Linear vs Logistic Regression) with different threshold values\n",
    "\n",
    "\n",
    "#                                    TP\n",
    "#                PRECISION  =  ---------------\n",
    "#                                 TP + FP\n",
    "\n",
    "prec_clas_01 = (truepos_clas_01)/(truepos_clas_01+falsepos_clas_01)\n",
    "prec_clas_05 = (truepos_clas_05)/(truepos_clas_05+falsepos_clas_05)\n",
    "prec_clas_09 = (truepos_clas_09)/(truepos_clas_09+falsepos_clas_09)\n",
    "prec_logr_01 = (truepos_logr_01)/(truepos_logr_01+falsepos_logr_01)\n",
    "prec_logr_05 = (truepos_logr_05)/(truepos_logr_05+falsepos_logr_05)\n",
    "prec_logr_09 = (truepos_logr_09)/(truepos_logr_09+falsepos_logr_09)"
   ]
  },
  {
   "cell_type": "markdown",
   "metadata": {},
   "source": [
    "Dataframe for CONFUSION MATRIX OF **CLASSIFICATION BY LINEAR REGRESSION** (threshold = 0.5, 0.9)"
   ]
  },
  {
   "cell_type": "code",
   "execution_count": 59,
   "metadata": {},
   "outputs": [
    {
     "name": "stdout",
     "output_type": "stream",
     "text": [
      "           predicted true (1)  predicted false (0)\n",
      "false = 0                  30                   12\n",
      "true = 1                  152                    6\n",
      "           predicted true (1)  predicted false (0)\n",
      "false = 0                   2                   40\n",
      "true = 1                   26                  132\n"
     ]
    }
   ],
   "source": [
    "# CONFUSION MATRIX OF CLASSIFICATION BY LINEAR REGRESSION (threshold = 0.5, 0.9)\n",
    "df_05 = {'predicted true (1)': [falsepos_clas_05, truepos_clas_05], 'predicted false (0)': [trueneg_clas_05,falseneg_clas_05]}\n",
    "df_05 = pd.DataFrame(data=df_05, index = ['false = 0','true = 1'])\n",
    "print(df_05)\n",
    "\n",
    "df_09 = {'predicted true (1)': [falsepos_clas_09, truepos_clas_09], 'predicted false (0)': [trueneg_clas_09,falseneg_clas_09]}\n",
    "df_09 = pd.DataFrame(data=df_09, index = ['false = 0','true = 1'])\n",
    "print(df_09)"
   ]
  },
  {
   "cell_type": "markdown",
   "metadata": {},
   "source": [
    "Dataframe for CONFUSION MATRIX OF **CLASSIFICATION BY LOGISTIC REGRESSION** (threshold = 0.5, 0.9)"
   ]
  },
  {
   "cell_type": "code",
   "execution_count": 60,
   "metadata": {},
   "outputs": [
    {
     "name": "stdout",
     "output_type": "stream",
     "text": [
      "           predicted true (1)  predicted false (0)\n",
      "false = 0                  33                    9\n",
      "true = 1                  155                    3\n",
      "           predicted true (1)  predicted false (0)\n",
      "false = 0                   0                    9\n",
      "true = 1                   10                  148\n"
     ]
    }
   ],
   "source": [
    "# CONFUSION MATRIX OF CLASSIFICATION BY LOGISTIC REGRESSION (threshold = 0.5, 0.9)\n",
    "df_05_log = {'predicted true (1)': [falsepos_logr_05, truepos_logr_05], 'predicted false (0)': [trueneg_logr_05,falseneg_logr_05]}\n",
    "df_05_log = pd.DataFrame(data=df_05_log, index = ['false = 0','true = 1'])\n",
    "print(df_05_log)\n",
    "\n",
    "df_09_log = {'predicted true (1)': [falsepos_logr_09, truepos_logr_09], 'predicted false (0)': [trueneg_logr_09,falseneg_logr_09]}\n",
    "df_09_log = pd.DataFrame(data=df_09_log, index = ['false = 0','true = 1'])\n",
    "print(df_09_log)"
   ]
  },
  {
   "cell_type": "code",
   "execution_count": 61,
   "metadata": {},
   "outputs": [
    {
     "data": {
      "text/plain": [
       "pandas.core.frame.DataFrame"
      ]
     },
     "execution_count": 61,
     "metadata": {},
     "output_type": "execute_result"
    }
   ],
   "source": [
    "type(df_05)"
   ]
  },
  {
   "cell_type": "markdown",
   "metadata": {},
   "source": [
    "# 2) Classification c)"
   ]
  },
  {
   "cell_type": "markdown",
   "metadata": {},
   "source": [
    "Confusion Matrix - **Linear Regression** - Threshold = 0.5:"
   ]
  },
  {
   "cell_type": "code",
   "execution_count": 62,
   "metadata": {},
   "outputs": [
    {
     "name": "stdout",
     "output_type": "stream",
     "text": [
      "Accuracy: \n",
      "0.82\n"
     ]
    },
    {
     "data": {
      "image/png": "[encoded data removed]",
      "text/plain": [
       "<Figure size 432x288 with 2 Axes>"
      ]
     },
     "metadata": {
      "needs_background": "light"
     },
     "output_type": "display_data"
    }
   ],
   "source": [
    "ax = sns.heatmap(df_05, annot=True, fmt=\"d\")\n",
    "print('Accuracy: ')\n",
    "print(acc_clas_05)"
   ]
  },
  {
   "cell_type": "markdown",
   "metadata": {},
   "source": [
    "Confusion Matrix - **Logistic Regression** - Threshold = 0.5:"
   ]
  },
  {
   "cell_type": "code",
   "execution_count": 63,
   "metadata": {},
   "outputs": [
    {
     "name": "stdout",
     "output_type": "stream",
     "text": [
      "Accuracy: \n",
      "0.82\n"
     ]
    },
    {
     "data": {
      "image/png": "[encoded data removed]",
      "text/plain": [
       "<Figure size 432x288 with 2 Axes>"
      ]
     },
     "metadata": {
      "needs_background": "light"
     },
     "output_type": "display_data"
    }
   ],
   "source": [
    "ax = sns.heatmap(df_05_log, annot=True, fmt=\"d\")\n",
    "print('Accuracy: ')\n",
    "print(acc_logr_05)"
   ]
  },
  {
   "cell_type": "markdown",
   "metadata": {},
   "source": [
    "# 2) Classification d)"
   ]
  },
  {
   "cell_type": "markdown",
   "metadata": {},
   "source": [
    "Confusion Matrix - **Linear Regression** - Threshold = 0.9:"
   ]
  },
  {
   "cell_type": "code",
   "execution_count": 64,
   "metadata": {},
   "outputs": [
    {
     "name": "stdout",
     "output_type": "stream",
     "text": [
      "Accuracy: \n",
      "0.33\n"
     ]
    },
    {
     "data": {
      "image/png": "[encoded data removed]",
      "text/plain": [
       "<Figure size 432x288 with 2 Axes>"
      ]
     },
     "metadata": {
      "needs_background": "light"
     },
     "output_type": "display_data"
    }
   ],
   "source": [
    "ax = sns.heatmap(df_09, annot=True, fmt=\"d\")\n",
    "print('Accuracy: ')\n",
    "print(acc_clas_09)"
   ]
  },
  {
   "cell_type": "markdown",
   "metadata": {},
   "source": [
    "Confusion Matrix - **Logistic Regression** - Threshold = 0.9:"
   ]
  },
  {
   "cell_type": "code",
   "execution_count": 65,
   "metadata": {},
   "outputs": [
    {
     "name": "stdout",
     "output_type": "stream",
     "text": [
      "Accuracy: \n",
      "0.11377245508982035\n"
     ]
    },
    {
     "data": {
      "image/png": "[encoded data removed]",
      "text/plain": [
       "<Figure size 432x288 with 2 Axes>"
      ]
     },
     "metadata": {
      "needs_background": "light"
     },
     "output_type": "display_data"
    }
   ],
   "source": [
    "ax = sns.heatmap(df_09_log, annot=True, fmt=\"d\")\n",
    "print('Accuracy: ')\n",
    "print(acc_logr_09)"
   ]
  },
  {
   "cell_type": "markdown",
   "metadata": {},
   "source": [
    "# 2) Classification e)"
   ]
  },
  {
   "cell_type": "markdown",
   "metadata": {},
   "source": [
    "Let us first create a dataframe to summarize all the **precisions** and **accuracies** of the 2 models for each of the 3 threshold values:"
   ]
  },
  {
   "cell_type": "code",
   "execution_count": 66,
   "metadata": {},
   "outputs": [
    {
     "data": {
      "text/html": [
       "<div>\n",
       "<style scoped>\n",
       "    .dataframe tbody tr th:only-of-type {\n",
       "        vertical-align: middle;\n",
       "    }\n",
       "\n",
       "    .dataframe tbody tr th {\n",
       "        vertical-align: top;\n",
       "    }\n",
       "\n",
       "    .dataframe thead th {\n",
       "        text-align: right;\n",
       "    }\n",
       "</style>\n",
       "<table border=\"1\" class=\"dataframe\">\n",
       "  <thead>\n",
       "    <tr style=\"text-align: right;\">\n",
       "      <th></th>\n",
       "      <th>Linear Regression</th>\n",
       "      <th>Logistic Regression</th>\n",
       "    </tr>\n",
       "  </thead>\n",
       "  <tbody>\n",
       "    <tr>\n",
       "      <th>0.1 Accuracy</th>\n",
       "      <td>0.766990</td>\n",
       "      <td>0.790000</td>\n",
       "    </tr>\n",
       "    <tr>\n",
       "      <th>0.5 Accuracy</th>\n",
       "      <td>0.820000</td>\n",
       "      <td>0.820000</td>\n",
       "    </tr>\n",
       "    <tr>\n",
       "      <th>0.9 Accuracy</th>\n",
       "      <td>0.330000</td>\n",
       "      <td>0.113772</td>\n",
       "    </tr>\n",
       "    <tr>\n",
       "      <th>0.1 Precision</th>\n",
       "      <td>0.790000</td>\n",
       "      <td>0.790000</td>\n",
       "    </tr>\n",
       "    <tr>\n",
       "      <th>0.5 Precision</th>\n",
       "      <td>0.835165</td>\n",
       "      <td>0.824468</td>\n",
       "    </tr>\n",
       "    <tr>\n",
       "      <th>0.9 Precision</th>\n",
       "      <td>0.928571</td>\n",
       "      <td>1.000000</td>\n",
       "    </tr>\n",
       "  </tbody>\n",
       "</table>\n",
       "</div>"
      ],
      "text/plain": [
       "               Linear Regression  Logistic Regression\n",
       "0.1 Accuracy            0.766990             0.790000\n",
       "0.5 Accuracy            0.820000             0.820000\n",
       "0.9 Accuracy            0.330000             0.113772\n",
       "0.1 Precision           0.790000             0.790000\n",
       "0.5 Precision           0.835165             0.824468\n",
       "0.9 Precision           0.928571             1.000000"
      ]
     },
     "execution_count": 66,
     "metadata": {},
     "output_type": "execute_result"
    }
   ],
   "source": [
    "df_prec_acc = {'Linear Regression': [acc_clas_01, acc_clas_05, acc_clas_09,prec_clas_01, prec_clas_05, prec_clas_09], 'Logistic Regression': [acc_logr_01, acc_logr_05, acc_logr_09, prec_logr_01, prec_logr_05, prec_logr_09]}\n",
    "df_prec_acc = pd.DataFrame(data = df_prec_acc, index = ['0.1 Accuracy', '0.5 Accuracy', '0.9 Accuracy','0.1 Precision', '0.5 Precision', '0.9 Precision'])\n",
    "df_prec_acc"
   ]
  },
  {
   "cell_type": "markdown",
   "metadata": {},
   "source": [
    "**The low accuracy issue**: FROM *0.5* TO *0.9* THRESHOLD.\n",
    "\n",
    "<br> <br> Let us look at the following image, it is the **sigmoid** function. This function maps any real value between 0 and 1.\n",
    "<br> But, **what is the significance of having a 0.5 threshold?**\n",
    "<br> Well, it basically means that the prediction will be mapped to 1 whenever the output is equal or greater that 0.5, and it will be mapped to 0 whenever this output is lower than 0.5, such as:\n",
    "\n",
    "<br> **y = 1**  if  hθ (x) >= 0.5\n",
    "<br> **y = 0**  if  hθ (x) < 0.5"
   ]
  },
  {
   "cell_type": "markdown",
   "metadata": {},
   "source": [
    "![title](images/sigmoid1.png)"
   ]
  },
  {
   "cell_type": "markdown",
   "metadata": {},
   "source": [
    "According to the image of the ***Sigmoid Function***, when the threshold is 0.5, the mapping is as likely as going towards 1 as towards 0 (if we neglect the fact that, in the case of being equal to 0.5, the mapping will be done upwards). In other words, the probability that the prediction goes to either 1 or 0 is the same.\n",
    "<br> However, when we change the threshold to 0.9, this probability changes dramatically, making much more difficult the output to be high enough (> 0.9) to be mapped as true.\n",
    "<br> In conclusion, when the threshold is changed from a medium value to an extreme one, the chances of mapping close to this extreme are lower, changing the behaviour of our prediction and making important variations in the output. Therefore, the once-mapped outputs (with medium value of the threshold, such as 0.5) would in this case be mapped in the opposite direction, increasing the error and **decreasing the accuracy** of the model."
   ]
  },
  {
   "cell_type": "markdown",
   "metadata": {},
   "source": [
    "# 3) Hidden Test Set a)"
   ]
  },
  {
   "cell_type": "code",
   "execution_count": 67,
   "metadata": {},
   "outputs": [
    {
     "data": {
      "text/plain": [
       "21"
      ]
     },
     "execution_count": 67,
     "metadata": {},
     "output_type": "execute_result"
    }
   ],
   "source": [
    "len(weights_reg_bias) # [21x1] weights that will be used"
   ]
  },
  {
   "cell_type": "code",
   "execution_count": 68,
   "metadata": {},
   "outputs": [],
   "source": [
    "# Read the whole dataset train.csv\n",
    "whole_test = pd.read_csv(\"test_no_G3.csv\")\n",
    "#len(whole_test)\n",
    "whole_test = pd.get_dummies(whole_test)\n",
    "#print(whole_test[0:3])"
   ]
  },
  {
   "cell_type": "code",
   "execution_count": 69,
   "metadata": {},
   "outputs": [
    {
     "data": {
      "text/plain": [
       "21"
      ]
     },
     "execution_count": 69,
     "metadata": {},
     "output_type": "execute_result"
    }
   ],
   "source": [
    "X_1test = whole_test.loc[:, whole_test.columns.intersection([\n",
    " 'school_GP',\n",
    " 'school_MS',\n",
    " 'sex_F',\n",
    " 'sex_M',\n",
    " 'age',\n",
    " 'famsize_GT3',\n",
    " 'famsize_LE3',                                            \n",
    " 'studytime',\n",
    " 'failures',\n",
    " 'activities_no',\n",
    " #'activities_yes',\n",
    " 'higher_no',\n",
    " #'higher_yes',\n",
    " 'internet_no',\n",
    " #'internet_yes',\n",
    " 'romantic_no',\n",
    " #'romantic_yes',\n",
    " 'famrel',                                                  \n",
    " 'freetime',\n",
    " 'goout',\n",
    " 'Dalc',\n",
    " 'Walc',\n",
    " 'health',\n",
    " 'absences'])]\n",
    "X_1test = ((X_1test-X_1test.min())/(X_1test.max()-X_1test.min())) #normalization\n",
    "\n",
    "ones = np.ones([X_1test.shape[0],1])\n",
    "ones = ones*1 # best result, even if mean of y column is 11.29125\n",
    "len(ones[0])\n",
    "X_1test = np.concatenate((ones,X_1test),axis=1)\n",
    "len(X_1test[0]) # [44x21]"
   ]
  },
  {
   "cell_type": "code",
   "execution_count": 70,
   "metadata": {},
   "outputs": [],
   "source": [
    "# PREDICTION USING 1d) Linear Regression w/ regularization + bias\n",
    "G3_prediction_1d = np.dot(X_1test,weights_reg_bias) # [44x1] = [44x21]x[21x1]\n",
    "#print(G3_prediction_1d)"
   ]
  },
  {
   "cell_type": "markdown",
   "metadata": {},
   "source": [
    "Before saving as a txt file our prediction, let us build a dataframe with proper indices."
   ]
  },
  {
   "cell_type": "code",
   "execution_count": 71,
   "metadata": {},
   "outputs": [
    {
     "name": "stdout",
     "output_type": "stream",
     "text": [
      "      index          0\n",
      "1001   1001  12.029546\n",
      "1002   1002  11.759240\n",
      "1003   1003  11.088148\n"
     ]
    }
   ],
   "source": [
    "test1 = pd.DataFrame(data = G3_prediction_1d)\n",
    "test1.index = pd.RangeIndex(start=1001, stop=1045, step=1)\n",
    "test1['index'] = test1.index\n",
    "test1 = test1.reindex(['index',0], axis=1)\n",
    "print(test1[0:3])"
   ]
  },
  {
   "cell_type": "code",
   "execution_count": 72,
   "metadata": {},
   "outputs": [],
   "source": [
    "np.savetxt('107065431_1.txt', test1.values, fmt='%d')"
   ]
  },
  {
   "cell_type": "markdown",
   "metadata": {},
   "source": [
    "# 3) Hidden Test Set b)"
   ]
  },
  {
   "cell_type": "code",
   "execution_count": 73,
   "metadata": {},
   "outputs": [
    {
     "data": {
      "text/plain": [
       "21"
      ]
     },
     "execution_count": 73,
     "metadata": {},
     "output_type": "execute_result"
    }
   ],
   "source": [
    "len(weights_logr) # [21x1] weights that will be used"
   ]
  },
  {
   "cell_type": "code",
   "execution_count": 74,
   "metadata": {},
   "outputs": [
    {
     "name": "stdout",
     "output_type": "stream",
     "text": [
      "      index  0\n",
      "1001   1001  1\n",
      "1002   1002  1\n",
      "1003   1003  1\n"
     ]
    }
   ],
   "source": [
    "# PREDICTION USING 2b) Logistic Regression\n",
    "G3_label_prediction_2b = np.dot(X_1test,weights_logr) # [44x1] = [44x21]x[21x1]\n",
    "G3_label_prediction_2b = np.where(G3_label_prediction_2b>=0.5, 1, 0)\n",
    "#print(G3_label_prediction_2b)\n",
    "test2 = pd.DataFrame(data = G3_label_prediction_2b)\n",
    "test2.index = pd.RangeIndex(start=1001, stop=1045, step=1)\n",
    "test2['index'] = test2.index\n",
    "test2 = test2.reindex(['index',0], axis=1)\n",
    "print(test2[0:3])"
   ]
  },
  {
   "cell_type": "code",
   "execution_count": 75,
   "metadata": {},
   "outputs": [],
   "source": [
    "np.savetxt('107065431_2.txt', test2.values, fmt='%d')"
   ]
  }
 ],
 "metadata": {
  "kernelspec": {
   "display_name": "Python 3",
   "language": "python",
   "name": "python3"
  },
  "language_info": {
   "codemirror_mode": {
    "name": "ipython",
    "version": 3
   },
   "file_extension": ".py",
   "mimetype": "text/x-python",
   "name": "python",
   "nbconvert_exporter": "python",
   "pygments_lexer": "ipython3",
   "version": "3.7.0"
  }
 },
 "nbformat": 4,
 "nbformat_minor": 2
}
